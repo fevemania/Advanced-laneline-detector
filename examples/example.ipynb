{
 "cells": [
  {
   "cell_type": "markdown",
   "metadata": {
    "deletable": true,
    "editable": true
   },
   "source": [
    "## Advanced Lane Finding Project\n",
    "\n",
    "The goals / steps of this project are the following:\n",
    "\n",
    "* Compute the camera calibration matrix and distortion coefficients given a set of chessboard images.\n",
    "* Apply a distortion correction to raw images.\n",
    "* Use color transforms, gradients, etc., to create a thresholded binary image.\n",
    "* Apply a perspective transform to rectify binary image (\"birds-eye view\").\n",
    "* Detect lane pixels and fit to find the lane boundary.\n",
    "* Determine the curvature of the lane and vehicle position with respect to center.\n",
    "* Warp the detected lane boundaries back onto the original image.\n",
    "* Output visual display of the lane boundaries and numerical estimation of lane curvature and vehicle position.\n",
    "\n",
    "---\n",
    "## First, I'll compute the camera calibration using chessboard images"
   ]
  },
  {
   "cell_type": "code",
   "execution_count": 17,
   "metadata": {
    "collapsed": false,
    "deletable": true,
    "editable": true
   },
   "outputs": [],
   "source": [
    "# Today's cameras all use lenses which make 2D image distort, so called camera calibration problem\n",
    "# There are two common distortion:\n",
    "# (1) Radial distortion, which makes stright lines appear curved, or objects appear more or less curved \n",
    "#     than the they actually are.\n",
    "# (2) tangential distorion, which occurs \n",
    "#     because image taking lense is not aligned perfectly parrllel to the imaging plane.\n",
    "#\n",
    "# So this part is the practice to undistort the images effected by both radial and tangential distortion.\n",
    "\n",
    "import numpy as np\n",
    "import cv2\n",
    "import glob\n",
    "import matplotlib.pyplot as plt\n",
    "%matplotlib qt5\n",
    "\n",
    "# prepare object points, like (0,0,0), (1,0,0), (2,0,0) ....,(6,9,0)\n",
    "# use numpy mgrid function to generate the coordinates values for a given grid size.\n",
    "objp = np.zeros((6*9,3), np.float32)\n",
    "objp[:,:2] = np.mgrid[0:9,0:6].T.reshape(-1,2)\n",
    "\n",
    "# Arrays to store object points and image points from all the images.\n",
    "objpoints = [] # 3d points in real world space\n",
    "imgpoints = [] # 2d points in image plane.\n",
    "\n",
    "# Make a list of calibration images\n",
    "images = glob.glob('../camera_cal/calibration*.jpg')\n",
    "\n",
    "# Step through the list and search for chessboard corners in distorted calibration images.\n",
    "for fname in images:\n",
    "    img = cv2.imread(fname)\n",
    "    gray = cv2.cvtColor(img,cv2.COLOR_BGR2GRAY)\n",
    "\n",
    "    # Find the chessboard's inner corners,\n",
    "    # (x, y) should pass only points where two black and two white squares intersects.\n",
    "    ret, corners = cv2.findChessboardCorners(gray, (9,6), None)\n",
    "\n",
    "    # If found, add object points, image points\n",
    "    if ret == True:\n",
    "        objpoints.append(objp)\n",
    "        imgpoints.append(corners)\n",
    "\n",
    "        # Draw and display the corners to see what was detected.\n",
    "#         img = cv2.drawChessboardCorners(img, (9,6), corners, ret)\n",
    "#         cv2.imshow('img',img)\n",
    "#         cv2.waitKey(500)\n",
    "        \n",
    "\n",
    "# cv2.destroyAllWindows()\n",
    "\n",
    "\n",
    "import pickle\n",
    "\n",
    "img = cv2.imread('../camera_cal/calibration1.jpg')\n",
    "\n",
    "# Compute the camera calibration matrix and distortion coefficients given a set of chessboard images.\n",
    "#\n",
    "# feed objpoints, imgpoints, and shape of the grayscale image into calibrateCamera function \n",
    "# to calculate the distortion cofficients (dist)\n",
    "# and the camera matrix that we need to transform 3D object points to 2D image points\n",
    "#\n",
    "# mtx: Camera Matrix, which only depends on the camera only. so once calculated, it can be stored for future purposes.\n",
    "# dist: Distortion coefficients, which depends on samples. so once calculated, it can be reused onto the same things \n",
    "#       as samples with different angles and orientation.\n",
    "def store_dist_and_mtx(img, objpoints, imgpoints):\n",
    "    img_size = (img.shape[1], img.shape[0])\n",
    "    ret, mtx, dist, rvecs, tvecs = cv2.calibrateCamera(objpoints, imgpoints, img_size, None, None)\n",
    "    print(\"mtx: \", mtx)\n",
    "    print(\"dist: \", dist)\n",
    "    # we only calculate once and store it into pickle \n",
    "    # so that we could reuse mtx and dist on every chessboard images in camera_cal folder.\n",
    "    dist_pickle = {}\n",
    "    dist_pickle['mtx'] = mtx\n",
    "    dist_pickle['dist'] = dist\n",
    "    pickle.dump( dist_pickle, open('mtx_and_dist_pickle.p', 'wb'))\n",
    "\n",
    "store_dist_and_mtx(img, objpoints, imgpoints)"
   ]
  },
  {
   "cell_type": "markdown",
   "metadata": {
    "deletable": true,
    "editable": true
   },
   "source": [
    "## And so on and so forth..."
   ]
  },
  {
   "cell_type": "code",
   "execution_count": 22,
   "metadata": {
    "collapsed": false,
    "deletable": true,
    "editable": true
   },
   "outputs": [],
   "source": [
    "# Apply a distortion correction to raw images.\n",
    "with open('mtx_and_dist_pickle.p', mode='rb') as f:\n",
    "    dist_pickle = pickle.load(f)\n",
    "mtx = dist_pickle['mtx']\n",
    "dist = dist_pickle['dist']\n",
    "\n",
    "%matplotlib inline\n",
    "\n",
    "for img in images:\n",
    "    index = img.rfind('/') + 1\n",
    "    filename = img[index:]\n",
    "    img = cv2.imread(img)\n",
    "    undist_img = cv2.undistort(img, mtx, dist, None, mtx)\n",
    "    cv2.imwrite('../output_images/undistort_images/'+filename, undist_img)\n",
    "\n",
    "# f, (ax1, ax2) = plt.subplots(1, 2, figsize=(24, 9))\n",
    "# f.tight_layout()\n",
    "# ax1.imshow(img)\n",
    "# ax1.set_title('Original Image', fontsize=50)\n",
    "# ax2.imshow(undistorted)\n",
    "# ax2.set_title('Undistorted Image', fontsize=50)\n",
    "# plt.subplots_adjust(left=0, right=1, top=0.9, bottom=0.)"
   ]
  },
  {
   "cell_type": "code",
   "execution_count": null,
   "metadata": {
    "collapsed": true,
    "deletable": true,
    "editable": true
   },
   "outputs": [],
   "source": []
  },
  {
   "cell_type": "code",
   "execution_count": null,
   "metadata": {
    "collapsed": true
   },
   "outputs": [],
   "source": []
  }
 ],
 "metadata": {
  "anaconda-cloud": {},
  "kernelspec": {
   "display_name": "Python 3",
   "language": "python",
   "name": "python3"
  },
  "language_info": {
   "codemirror_mode": {
    "name": "ipython",
    "version": 3
   },
   "file_extension": ".py",
   "mimetype": "text/x-python",
   "name": "python",
   "nbconvert_exporter": "python",
   "pygments_lexer": "ipython3",
   "version": "3.6.0"
  }
 },
 "nbformat": 4,
 "nbformat_minor": 1
}
